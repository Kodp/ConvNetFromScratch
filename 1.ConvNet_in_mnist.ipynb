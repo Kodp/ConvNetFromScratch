{
 "cells": [
  {
   "attachments": {},
   "cell_type": "markdown",
   "metadata": {},
   "source": [
    "# 数据加载"
   ]
  },
  {
   "cell_type": "code",
   "execution_count": 1,
   "metadata": {},
   "outputs": [
    {
     "name": "stdout",
     "output_type": "stream",
     "text": [
      "Good to go!\n"
     ]
    }
   ],
   "source": [
    "# 导入包\n",
    "\n",
    "# 自动重新加载更改后的Python模块\n",
    "%load_ext autoreload\n",
    "%autoreload 2\n",
    "\n",
    "try:\n",
    "    from google.colab import drive\n",
    "    drive.mount('/content/drive')\n",
    "    import os\n",
    "    GOOGLE_DRIVE_PATH_AFTER_MYDRIVE = 'ConvNetFromScratch'\n",
    "    GOOGLE_DRIVE_PATH = os.path.join('drive', 'My Drive', GOOGLE_DRIVE_PATH_AFTER_MYDRIVE)\n",
    "    print(os.listdir(GOOGLE_DRIVE_PATH))\n",
    "    import sys\n",
    "    sys.path.append(GOOGLE_DRIVE_PATH)\n",
    "except:\n",
    "    pass\n",
    "\n",
    "import time, os, torch, torchvision, random, time, math\n",
    "from torch import Tensor\n",
    "import torchvision\n",
    "import matplotlib.pyplot as plt\n",
    "\n",
    "%matplotlib inline\n",
    "plt.rcParams['figure.figsize'] = (6, 4)\n",
    "plt.rcParams['font.size'] = 10\n",
    "from toolset import *\n",
    "from toolset.utils import *\n",
    "from toolset.data import *\n",
    "from toolset.helper import *\n",
    "from toolset.solver import *\n",
    "from convolutional_networks import *\n",
    "from fully_connected_networks import *\n",
    "\n",
    "if torch.cuda.is_available:\n",
    "    print('Good to go!')"
   ]
  },
  {
   "cell_type": "code",
   "execution_count": 2,
   "metadata": {},
   "outputs": [
    {
     "name": "stdout",
     "output_type": "stream",
     "text": [
      "cuda\n",
      "训练数据集的形态: torch.Size([60000, 1, 28, 28])\n"
     ]
    }
   ],
   "source": [
    "# 数据加载\n",
    "train_data, train_labels, test_data, test_labels = get_mnist_data()\n",
    "\n",
    "device = torch.device(\"cuda\" if torch.cuda.is_available() else \"cpu\")\n",
    "print(device)\n",
    "train_data = train_data.to(device)\n",
    "train_labels = train_labels.to(device)\n",
    "test_data = test_data.to(device)\n",
    "test_labels = test_labels.to(device)\n",
    "\n",
    "data_dict = {\n",
    "    'X_train': train_data,\n",
    "    'y_train': train_labels,\n",
    "    'X_val': test_data,\n",
    "    'y_val': test_labels,\n",
    "}\n",
    "print(\"训练数据集的形态:\", train_data.shape)\n",
    "clear()"
   ]
  },
  {
   "attachments": {},
   "cell_type": "markdown",
   "metadata": {},
   "source": [
    "# 训练与保存"
   ]
  },
  {
   "cell_type": "code",
   "execution_count": 7,
   "metadata": {},
   "outputs": [],
   "source": [
    "reset_seed(0)\n",
    "net = ThreeLayerConvNet(\n",
    "    input_dims = (1, 28, 28),\n",
    "    num_filters = 32,\n",
    "    hidden_dim = 128,\n",
    "    num_classes = 10,\n",
    "    weight_scale = 1e-3,\n",
    "    reg = 1e-5,\n",
    "    device='cuda'\n",
    ")\n",
    "solver = Solver(net, data_dict,\n",
    "                num_epochs=5, batch_size=50,\n",
    "                optim_config={\n",
    "                'learning_rate': 0.001,\n",
    "                },\n",
    "                update_rule=adam,\n",
    "                verbose=True, device='cuda',print_every=100)"
   ]
  },
  {
   "cell_type": "code",
   "execution_count": 8,
   "metadata": {},
   "outputs": [
    {
     "name": "stdout",
     "output_type": "stream",
     "text": [
      "(用时 0.01s; 迭代次数1 / 6000) loss: 2.302594\n",
      "(Epoch 0 / 5, train 准确率: 10.90%, val准确率: 10.32%\n",
      "更新:当前准确率10.32, 大于之前的最佳准确率0.00\n",
      "\n",
      "(用时 1.17s; 迭代次数101 / 6000) loss: 0.485185\n",
      "(用时 2.19s; 迭代次数201 / 6000) loss: 0.221130\n",
      "(用时 3.19s; 迭代次数301 / 6000) loss: 0.210890\n",
      "(用时 4.20s; 迭代次数401 / 6000) loss: 0.198406\n",
      "(用时 5.18s; 迭代次数501 / 6000) loss: 0.079923\n",
      "(用时 6.17s; 迭代次数601 / 6000) loss: 0.146219\n",
      "(用时 7.17s; 迭代次数701 / 6000) loss: 0.086252\n",
      "(用时 8.16s; 迭代次数801 / 6000) loss: 0.020010\n",
      "(用时 9.16s; 迭代次数901 / 6000) loss: 0.046389\n",
      "(用时 10.17s; 迭代次数1001 / 6000) loss: 0.081965\n",
      "(用时 11.25s; 迭代次数1101 / 6000) loss: 0.038509\n",
      "(Epoch 1 / 5, train 准确率: 98.90%, val准确率: 98.04%\n",
      "更新:当前准确率98.04, 大于之前的最佳准确率10.32\n",
      "\n",
      "(用时 12.42s; 迭代次数1201 / 6000) loss: 0.163780\n",
      "(用时 13.41s; 迭代次数1301 / 6000) loss: 0.248970\n",
      "(用时 14.40s; 迭代次数1401 / 6000) loss: 0.079564\n",
      "(用时 15.40s; 迭代次数1501 / 6000) loss: 0.034606\n",
      "(用时 16.39s; 迭代次数1601 / 6000) loss: 0.103764\n",
      "(用时 17.37s; 迭代次数1701 / 6000) loss: 0.219548\n",
      "(用时 18.38s; 迭代次数1801 / 6000) loss: 0.030651\n",
      "(用时 19.42s; 迭代次数1901 / 6000) loss: 0.040050\n",
      "(用时 20.41s; 迭代次数2001 / 6000) loss: 0.037860\n",
      "(用时 21.40s; 迭代次数2101 / 6000) loss: 0.108502\n",
      "(用时 22.42s; 迭代次数2201 / 6000) loss: 0.011124\n",
      "(用时 23.49s; 迭代次数2301 / 6000) loss: 0.061547\n",
      "(Epoch 2 / 5, train 准确率: 98.70%, val准确率: 98.46%\n",
      "更新:当前准确率98.46, 大于之前的最佳准确率98.04\n",
      "\n",
      "(用时 24.64s; 迭代次数2401 / 6000) loss: 0.016078\n",
      "(用时 25.66s; 迭代次数2501 / 6000) loss: 0.015592\n",
      "(用时 26.65s; 迭代次数2601 / 6000) loss: 0.014757\n",
      "(用时 27.62s; 迭代次数2701 / 6000) loss: 0.025285\n",
      "(用时 28.62s; 迭代次数2801 / 6000) loss: 0.017947\n",
      "(用时 29.60s; 迭代次数2901 / 6000) loss: 0.009989\n",
      "(用时 30.58s; 迭代次数3001 / 6000) loss: 0.019089\n",
      "(用时 31.57s; 迭代次数3101 / 6000) loss: 0.033219\n",
      "(用时 32.55s; 迭代次数3201 / 6000) loss: 0.023371\n",
      "(用时 33.57s; 迭代次数3301 / 6000) loss: 0.011264\n",
      "(用时 34.52s; 迭代次数3401 / 6000) loss: 0.056044\n",
      "(用时 35.48s; 迭代次数3501 / 6000) loss: 0.039501\n",
      "(Epoch 3 / 5, train 准确率: 98.90%, val准确率: 98.71%\n",
      "更新:当前准确率98.71, 大于之前的最佳准确率98.46\n",
      "\n",
      "(用时 36.56s; 迭代次数3601 / 6000) loss: 0.016925\n",
      "(用时 37.54s; 迭代次数3701 / 6000) loss: 0.051450\n",
      "(用时 38.52s; 迭代次数3801 / 6000) loss: 0.012123\n",
      "(用时 39.50s; 迭代次数3901 / 6000) loss: 0.054452\n",
      "(用时 40.45s; 迭代次数4001 / 6000) loss: 0.049775\n",
      "(用时 41.39s; 迭代次数4101 / 6000) loss: 0.013343\n",
      "(用时 42.36s; 迭代次数4201 / 6000) loss: 0.014114\n",
      "(用时 43.31s; 迭代次数4301 / 6000) loss: 0.010939\n",
      "(用时 44.30s; 迭代次数4401 / 6000) loss: 0.014159\n",
      "(用时 45.27s; 迭代次数4501 / 6000) loss: 0.119214\n",
      "(用时 46.24s; 迭代次数4601 / 6000) loss: 0.010639\n",
      "(用时 47.21s; 迭代次数4701 / 6000) loss: 0.041186\n",
      "(Epoch 4 / 5, train 准确率: 99.20%, val准确率: 98.77%\n",
      "更新:当前准确率98.77, 大于之前的最佳准确率98.71\n",
      "\n",
      "(用时 48.36s; 迭代次数4801 / 6000) loss: 0.021323\n",
      "(用时 49.37s; 迭代次数4901 / 6000) loss: 0.017111\n",
      "(用时 50.35s; 迭代次数5001 / 6000) loss: 0.012033\n",
      "(用时 51.30s; 迭代次数5101 / 6000) loss: 0.034524\n",
      "(用时 52.25s; 迭代次数5201 / 6000) loss: 0.030372\n",
      "(用时 53.25s; 迭代次数5301 / 6000) loss: 0.025147\n",
      "(用时 54.21s; 迭代次数5401 / 6000) loss: 0.024861\n",
      "(用时 55.17s; 迭代次数5501 / 6000) loss: 0.011937\n",
      "(用时 56.12s; 迭代次数5601 / 6000) loss: 0.019564\n",
      "(用时 57.09s; 迭代次数5701 / 6000) loss: 0.024716\n",
      "(用时 58.07s; 迭代次数5801 / 6000) loss: 0.032799\n",
      "(用时 59.05s; 迭代次数5901 / 6000) loss: 0.011460\n",
      "(Epoch 5 / 5, train 准确率: 99.50%, val准确率: 98.70%\n"
     ]
    }
   ],
   "source": [
    "reset_seed(0)\n",
    "solver.train(time_limit=600)\n",
    "# 你的模型应该能达到95%+准确率"
   ]
  },
  {
   "cell_type": "code",
   "execution_count": 16,
   "metadata": {},
   "outputs": [
    {
     "name": "stdout",
     "output_type": "stream",
     "text": [
      "Saved in mnist_model.pth\n"
     ]
    }
   ],
   "source": [
    "# 保存权重模型\n",
    "model_path = 'mnist_model.pth'\n",
    "net.save(model_path)"
   ]
  },
  {
   "attachments": {},
   "cell_type": "markdown",
   "metadata": {},
   "source": [
    "# 加载模型,测试准确率"
   ]
  },
  {
   "cell_type": "code",
   "execution_count": 17,
   "metadata": {},
   "outputs": [
    {
     "name": "stdout",
     "output_type": "stream",
     "text": [
      "load model in cuda!\n",
      "load checkpoint file: mnist_model.pth\n"
     ]
    }
   ],
   "source": [
    "# 加载检测\n",
    "from convolutional_networks import ThreeLayerConvNet\n",
    "\n",
    "model_path = 'mnist_model.pth'\n",
    "device = 'cuda'\n",
    "net_mnist = ThreeLayerConvNet(device=device)\n",
    "net_mnist.load(model_path ,device='cuda')  #"
   ]
  },
  {
   "cell_type": "code",
   "execution_count": 19,
   "metadata": {},
   "outputs": [
    {
     "name": "stdout",
     "output_type": "stream",
     "text": [
      "acc:98.77%\n"
     ]
    }
   ],
   "source": [
    "# 检验验证集准确率\n",
    "from toolset.solver import Solver\n",
    "solver_checker = Solver(net_mnist, data_dict,optim_config={\n",
    "                'learning_rate': 0.001,\n",
    "                },device=device)\n",
    "acc = solver_checker.check_accuracy(data_dict['X_val'],data_dict['y_val'])\n",
    "print(f\"acc:{acc*100:.2f}%\")"
   ]
  },
  {
   "attachments": {},
   "cell_type": "markdown",
   "metadata": {},
   "source": [
    "# 可视化推理结果"
   ]
  },
  {
   "cell_type": "code",
   "execution_count": 3,
   "metadata": {},
   "outputs": [
    {
     "name": "stdout",
     "output_type": "stream",
     "text": [
      "load model in cpu!\n",
      "load checkpoint file: mnist_model.pth\n"
     ]
    }
   ],
   "source": [
    "device = 'cpu'\n",
    "net_mnist = ThreeLayerConvNet(device=device)\n",
    "net_mnist.load(\"mnist_model.pth\",device=device)"
   ]
  },
  {
   "cell_type": "code",
   "execution_count": 4,
   "metadata": {},
   "outputs": [
    {
     "name": "stdout",
     "output_type": "stream",
     "text": [
      "torch.float32\n",
      "tensor([[  0.,   0.,   0.,   0.,   0.,   0.,   0.,   0.,   0.,   0.,   0.,   0.,   0.,   0.,   0.,   0.,   0.,   0.,   0.,   0.,   0.,   0.,   0.,   0.,   0.,   0.,   0.,   0.],\n",
      "        [  0.,   0.,   0.,   0.,   0.,   0.,   0.,   0.,   0.,   0.,   0.,   0.,   0.,   0.,   0.,   0.,   0.,   0.,   0.,   0.,   0.,   0.,   0.,   0.,   0.,   0.,   0.,   0.],\n",
      "        [  0.,   0.,   0.,   0.,   0.,   0.,   0.,   0.,   0.,   0.,   0.,   0.,   0.,   0.,   0.,   0.,   0.,   0.,   0.,   0.,   0.,   0.,   0.,   0.,   0.,   0.,   0.,   0.],\n",
      "        [  0.,   0.,   0.,   0.,   0.,   0.,   0.,   0.,   0.,   0.,   0.,   0.,   0.,   0.,   0.,   0.,   0.,   0.,   0.,   0.,   0.,   0.,   0.,   0.,   0.,   0.,   0.,   0.],\n",
      "        [  0.,   0.,   0.,   0.,   0.,   0.,   0.,   0.,   0.,   0.,   0.,   0.,  36., 102.,  74.,  11.,   0.,   0.,   0.,   0.,   0.,   0.,   0.,   0.,   0.,   0.,   0.,   0.],\n",
      "        [  0.,   0.,   0.,   0.,   0.,   0.,   0.,   0.,   0.,   0.,   0.,  49., 212., 255., 255., 215., 108.,   1.,   0.,   0.,   0.,   0.,   0.,   0.,   0.,   0.,   0.,   0.],\n",
      "        [  0.,   0.,   0.,   0.,   0.,   0.,   0.,   0.,   0.,   0., 108., 245., 255., 255., 252., 255., 255., 129.,   0.,   0.,   0.,   0.,   0.,   0.,   0.,   0.,   0.,   0.],\n",
      "        [  0.,   0.,   0.,   0.,   0.,   0.,   0.,   0.,   0.,  74., 250., 255., 190., 145.,  45., 127., 252., 245.,  34.,   0.,   0.,   0.,   0.,   0.,   0.,   0.,   0.,   0.],\n",
      "        [  0.,   0.,   0.,   0.,   0.,   0.,   0.,   0.,   0., 175., 255., 157.,   1.,   0.,   0.,   0., 210., 255.,  78.,   0.,   0.,   0.,   0.,   0.,   0.,   0.,   0.,   0.],\n",
      "        [  0.,   0.,   0.,   0.,   0.,   0.,   0.,   0.,   0., 181., 255., 109.,   0.,   0.,   0.,   0., 197., 255.,  78.,   0.,   0.,   0.,   0.,   0.,   0.,   0.,   0.,   0.],\n",
      "        [  0.,   0.,   0.,   0.,   0.,   0.,   0.,   0.,   0., 125., 255., 216.,  21.,   0.,   0.,   0., 203., 255.,  79.,   0.,   0.,   0.,   0.,   0.,   0.,   0.,   0.,   0.],\n",
      "        [  0.,   0.,   0.,   0.,   0.,   0.,   0.,   0.,   0.,  17., 212., 255., 186.,   8.,   0.,  45., 244., 253.,  52.,   0.,   0.,   0.,   0.,   0.,   0.,   0.,   0.,   0.],\n",
      "        [  0.,   0.,   0.,   0.,   0.,   0.,   0.,   0.,   0.,   0.,  44., 230., 255., 154.,  28., 194., 255., 187.,   3.,   0.,   0.,   0.,   0.,   0.,   0.,   0.,   0.,   0.],\n",
      "        [  0.,   0.,   0.,   0.,   0.,   0.,   0.,   0.,   0.,   0.,   0.,  68., 235., 255., 228., 255., 227.,  36.,   0.,   0.,   0.,   0.,   0.,   0.,   0.,   0.,   0.,   0.],\n",
      "        [  0.,   0.,   0.,   0.,   0.,   0.,   0.,   0.,   0.,   0.,   0.,   1., 172., 255., 255., 242.,  57.,   0.,   0.,   0.,   0.,   0.,   0.,   0.,   0.,   0.,   0.,   0.],\n",
      "        [  0.,   0.,   0.,   0.,   0.,   0.,   0.,   0.,   0.,   0.,  32., 184., 255., 255., 253., 254., 137.,   0.,   0.,   0.,   0.,   0.,   0.,   0.,   0.,   0.,   0.,   0.],\n",
      "        [  0.,   0.,   0.,   0.,   0.,   0.,   0.,   0.,   0.,  64., 221., 255., 231.,  83.,  83., 248., 255., 106.,   0.,   0.,   0.,   0.,   0.,   0.,   0.,   0.,   0.,   0.],\n",
      "        [  0.,   0.,   0.,   0.,   0.,   0.,   0.,   0., 102., 245., 255., 200.,  39.,   0.,   0., 110., 255., 250.,  60.,   0.,   0.,   0.,   0.,   0.,   0.,   0.,   0.,   0.],\n",
      "        [  0.,   0.,   0.,   0.,   0.,   0.,   0., 133., 255., 255., 165.,  14.,   0.,   0.,   0.,   0., 166., 255., 175.,   2.,   0.,   0.,   0.,   0.,   0.,   0.,   0.,   0.],\n",
      "        [  0.,   0.,   0.,   0.,   0.,   0.,  66., 254., 250., 121.,   0.,   0.,   0.,   0.,   0.,   0.,  51., 252., 235.,  18.,   0.,   0.,   0.,   0.,   0.,   0.,   0.,   0.],\n",
      "        [  0.,   0.,   0.,   0.,   0.,   0., 152., 255., 156.,   0.,   0.,   0.,   0.,   0.,   0.,   0.,  56., 252., 237.,  19.,   0.,   0.,   0.,   0.,   0.,   0.,   0.,   0.],\n",
      "        [  0.,   0.,   0.,   0.,   0.,   0., 151., 255., 139.,   0.,   0.,   0.,   0.,   0.,   0.,  64., 215., 255., 176.,   2.,   0.,   0.,   0.,   0.,   0.,   0.,   0.,   0.],\n",
      "        [  0.,   0.,   0.,   0.,   0.,   0., 103., 255., 224.,  57.,  20.,  31.,  64., 119., 193., 252., 255., 209.,  29.,   0.,   0.,   0.,   0.,   0.,   0.,   0.,   0.,   0.],\n",
      "        [  0.,   0.,   0.,   0.,   0.,   0.,  16., 206., 255., 255., 236., 245., 255., 255., 255., 234., 150.,  24.,   0.,   0.,   0.,   0.,   0.,   0.,   0.,   0.,   0.,   0.],\n",
      "        [  0.,   0.,   0.,   0.,   0.,   0.,   0.,  28., 171., 236., 250., 243., 216., 177., 110.,  31.,   0.,   0.,   0.,   0.,   0.,   0.,   0.,   0.,   0.,   0.,   0.,   0.],\n",
      "        [  0.,   0.,   0.,   0.,   0.,   0.,   0.,   0.,   0.,  23.,  37.,  28.,   7.,   0.,   0.,   0.,   0.,   0.,   0.,   0.,   0.,   0.,   0.,   0.,   0.,   0.,   0.,   0.],\n",
      "        [  0.,   0.,   0.,   0.,   0.,   0.,   0.,   0.,   0.,   0.,   0.,   0.,   0.,   0.,   0.,   0.,   0.,   0.,   0.,   0.,   0.,   0.,   0.,   0.,   0.,   0.,   0.,   0.],\n",
      "        [  0.,   0.,   0.,   0.,   0.,   0.,   0.,   0.,   0.,   0.,   0.,   0.,   0.,   0.,   0.,   0.,   0.,   0.,   0.,   0.,   0.,   0.,   0.,   0.,   0.,   0.,   0.,   0.]])\n"
     ]
    },
    {
     "data": {
      "image/png": "[encoded data removed]",
      "text/plain": [
       "<Figure size 600x400 with 1 Axes>"
      ]
     },
     "metadata": {},
     "output_type": "display_data"
    },
    {
     "name": "stdout",
     "output_type": "stream",
     "text": [
      "torch.float32\n",
      "tensor([[  0.,   0.,   0.,   0.,   0.,   0.,   0.,   0.,   0.,   0.,   0.,   0.,   0.,   0.,   0.,   0.,   0.,   0.,   0.,   0.,   0.,   0.,   0.,   0.,   0.,   0.,   0.,   0.],\n",
      "        [  0.,   0.,   0.,   0.,   0.,   0.,   0.,   0.,   0.,   0.,   0.,   0.,   0.,   0.,   0.,   0.,   0.,   0.,   0.,   0.,   0.,   0.,   0.,   0.,   0.,   0.,   0.,   0.],\n",
      "        [  0.,   0.,   0.,   0.,   0.,   0.,   0.,   0.,   0.,   0.,   0.,   0.,   0.,   0.,   0.,   0.,   0.,   0.,   0.,   0.,   0.,   0.,   0.,   0.,   0.,   0.,   0.,   0.],\n",
      "        [  0.,   0.,   0.,   0.,   0.,   0.,   0.,   0.,   0.,   0.,   0.,   0.,   0.,   0.,   0.,   0.,   0.,   0.,   0.,   0.,   0.,   0.,   0.,   0.,   0.,   0.,   0.,   0.],\n",
      "        [  0.,   0.,   0.,   0.,   0.,   0.,   0.,   0.,   0.,   0.,   0.,   0.,   0.,   0.,   0.,   0.,   0.,   0.,   0.,   0.,   0.,   0.,   0.,   0.,   0.,   0.,   0.,   0.],\n",
      "        [  0.,   0.,   0.,   0.,   0.,   0.,   0.,   0.,   0.,   0.,  17.,  25.,  38.,  54.,  69.,  76.,  72.,  77.,  78.,  71.,   8.,   0.,   0.,   0.,   0.,   0.,   0.,   0.],\n",
      "        [  0.,   0.,   0.,   0.,   0.,   0.,   0.,   0.,   0.,  81., 231., 240., 251., 255., 255., 255., 255., 255., 255., 255., 108.,   0.,   0.,   0.,   0.,   0.,   0.,   0.],\n",
      "        [  0.,   0.,   0.,   0.,   0.,   0.,   0.,   0.,   0.,  92., 247., 249., 236., 221., 207., 197., 194., 198., 242., 255., 128.,   0.,   0.,   0.,   0.,   0.,   0.,   0.],\n",
      "        [  0.,   0.,   0.,   0.,   0.,   0.,   0.,   0.,   0.,   0.,  32.,  35.,  20.,   9.,   2.,   0.,   0.,   9., 221., 255.,  62.,   0.,   0.,   0.,   0.,   0.,   0.,   0.],\n",
      "        [  0.,   0.,   0.,   0.,   0.,   0.,   0.,   0.,   0.,   0.,   0.,   0.,   0.,   0.,   0.,   0.,   0.,  55., 252., 221.,  10.,   0.,   0.,   0.,   0.,   0.,   0.,   0.],\n",
      "        [  0.,   0.,   0.,   0.,   0.,   0.,   0.,   0.,   0.,   0.,   0.,   0.,   0.,   0.,   0.,   0.,   0., 119., 255., 156.,   0.,   0.,   0.,   0.,   0.,   0.,   0.,   0.],\n",
      "        [  0.,   0.,   0.,   0.,   0.,   0.,   0.,   0.,   0.,   0.,   0.,   0.,   0.,   0.,   0.,   0.,   4., 192., 255.,  82.,   0.,   0.,   0.,   0.,   0.,   0.,   0.,   0.],\n",
      "        [  0.,   0.,   0.,   0.,   0.,   0.,   0.,   0.,   0.,   0.,   0.,   0.,   0.,   0.,   0.,   0.,  38., 246., 232.,  20.,   0.,   0.,   0.,   0.,   0.,   0.,   0.,   0.],\n",
      "        [  0.,   0.,   0.,   0.,   0.,   0.,   0.,   0.,   0.,   0.,   0.,   0.,   0.,   0.,   0.,   0., 110., 255., 165.,   0.,   0.,   0.,   0.,   0.,   0.,   0.,   0.,   0.],\n",
      "        [  0.,   0.,   0.,   0.,   0.,   0.,   0.,   0.,   0.,   0.,   0.,   0.,   0.,   0.,   0.,   1., 185., 255.,  97.,   0.,   0.,   0.,   0.,   0.,   0.,   0.,   0.,   0.],\n",
      "        [  0.,   0.,   0.,   0.,   0.,   0.,   0.,   0.,   0.,   0.,   0.,   0.,   0.,   0.,   0.,  33., 243., 244.,  33.,   0.,   0.,   0.,   0.,   0.,   0.,   0.,   0.,   0.],\n",
      "        [  0.,   0.,   0.,   0.,   0.,   0.,   0.,   0.,   0.,   0.,   0.,   0.,   0.,   0.,   0.,  92., 255., 188.,   0.,   0.,   0.,   0.,   0.,   0.,   0.,   0.,   0.,   0.],\n",
      "        [  0.,   0.,   0.,   0.,   0.,   0.,   0.,   0.,   0.,   0.,   0.,   0.,   0.,   0.,   0., 147., 255., 133.,   0.,   0.,   0.,   0.,   0.,   0.,   0.,   0.,   0.,   0.],\n",
      "        [  0.,   0.,   0.,   0.,   0.,   0.,   0.,   0.,   0.,   0.,   0.,   0.,   0.,   0.,   2., 199., 255.,  78.,   0.,   0.,   0.,   0.,   0.,   0.,   0.,   0.,   0.,   0.],\n",
      "        [  0.,   0.,   0.,   0.,   0.,   0.,   0.,   0.,   0.,   0.,   0.,   0.,   0.,   0.,  21., 237., 246.,  33.,   0.,   0.,   0.,   0.,   0.,   0.,   0.,   0.,   0.,   0.],\n",
      "        [  0.,   0.,   0.,   0.,   0.,   0.,   0.,   0.,   0.,   0.,   0.,   0.,   0.,   0.,  52., 254., 224.,  10.,   0.,   0.,   0.,   0.,   0.,   0.,   0.,   0.,   0.,   0.],\n",
      "        [  0.,   0.,   0.,   0.,   0.,   0.,   0.,   0.,   0.,   0.,   0.,   0.,   0.,   0., 105., 255., 183.,   1.,   0.,   0.,   0.,   0.,   0.,   0.,   0.,   0.,   0.,   0.],\n",
      "        [  0.,   0.,   0.,   0.,   0.,   0.,   0.,   0.,   0.,   0.,   0.,   0.,   0.,   1., 177., 255., 132.,   0.,   0.,   0.,   0.,   0.,   0.,   0.,   0.,   0.,   0.,   0.],\n",
      "        [  0.,   0.,   0.,   0.,   0.,   0.,   0.,   0.,   0.,   0.,   0.,   0.,   0.,   6., 219., 255.,  63.,   0.,   0.,   0.,   0.,   0.,   0.,   0.,   0.,   0.,   0.,   0.],\n",
      "        [  0.,   0.,   0.,   0.,   0.,   0.,   0.,   0.,   0.,   0.,   0.,   0.,   0.,   0.,  68., 102.,   3.,   0.,   0.,   0.,   0.,   0.,   0.,   0.,   0.,   0.,   0.,   0.],\n",
      "        [  0.,   0.,   0.,   0.,   0.,   0.,   0.,   0.,   0.,   0.,   0.,   0.,   0.,   0.,   0.,   0.,   0.,   0.,   0.,   0.,   0.,   0.,   0.,   0.,   0.,   0.,   0.,   0.],\n",
      "        [  0.,   0.,   0.,   0.,   0.,   0.,   0.,   0.,   0.,   0.,   0.,   0.,   0.,   0.,   0.,   0.,   0.,   0.,   0.,   0.,   0.,   0.,   0.,   0.,   0.,   0.,   0.,   0.],\n",
      "        [  0.,   0.,   0.,   0.,   0.,   0.,   0.,   0.,   0.,   0.,   0.,   0.,   0.,   0.,   0.,   0.,   0.,   0.,   0.,   0.,   0.,   0.,   0.,   0.,   0.,   0.,   0.,   0.]])\n"
     ]
    },
    {
     "data": {
      "image/png": "[encoded data removed]",
      "text/plain": [
       "<Figure size 600x400 with 1 Axes>"
      ]
     },
     "metadata": {},
     "output_type": "display_data"
    },
    {
     "name": "stdout",
     "output_type": "stream",
     "text": [
      "torch.float32\n",
      "tensor([[  0.,   0.,   0.,   0.,   0.,   0.,   0.,   0.,   0.,   0.,   0.,   0.,   0.,   0.,   0.,   0.,   0.,   0.,   0.,   0.,   0.,   0.,   0.,   0.,   0.,   0.,   0.,   0.],\n",
      "        [  0.,   0.,   0.,   0.,   0.,   0.,   0.,   0.,   0.,   0.,   0.,   0.,   0.,   0.,   0.,   0.,   0.,   0.,   0.,   0.,   0.,   0.,   0.,   0.,   0.,   0.,   0.,   0.],\n",
      "        [  0.,   0.,   0.,   0.,   0.,   0.,   0.,   0.,   0.,   0.,   0.,   0.,   0.,   0.,   0.,   0.,   0.,   0.,   0.,   0.,   0.,   0.,   0.,   0.,   0.,   0.,   0.,   0.],\n",
      "        [  0.,   0.,   0.,   0.,   0.,   0.,   0.,   0.,   0.,   0.,   0.,   0.,   0.,   0.,   0.,   0.,   0.,   0.,   0.,   0.,   0.,   0.,   0.,   0.,   0.,   0.,   0.,   0.],\n",
      "        [  0.,   0.,   0.,   0.,   0.,   0.,   0.,   0.,   0.,   0.,   0.,   0.,   0.,   0.,   0.,   0.,   0.,   0.,   0.,   0.,   0.,   0.,   0.,   0.,   0.,   0.,   0.,   0.],\n",
      "        [  0.,   0.,   0.,   0.,   0.,   0.,   0.,   0.,   0.,   0.,   0.,   0.,   0.,  45., 186.,  92.,   0.,   0.,   0.,   0.,   0.,   0.,   0.,   0.,   0.,   0.,   0.,   0.],\n",
      "        [  0.,   0.,   0.,   0.,   0.,   0.,   0.,   0.,   0.,   0.,   0.,   0.,  29., 218., 255., 161.,   0.,   0.,   0.,   0.,   0.,   0.,   0.,   0.,   0.,   0.,   0.,   0.],\n",
      "        [  0.,   0.,   0.,   0.,   0.,   0.,   0.,   0.,   0.,   0.,   0.,   0., 169., 255., 209.,  25.,   0.,   0.,   0.,   0.,   0.,   0.,   0.,   0.,   0.,   0.,   0.,   0.],\n",
      "        [  0.,   0.,   0.,   0.,   0.,   0.,   0.,   0.,   0.,   0.,   0.,  69., 252., 248.,  53.,   0.,   0.,   0.,   0.,   0.,   0.,   0.,   0.,   0.,   0.,   0.,   0.,   0.],\n",
      "        [  0.,   0.,   0.,   0.,   0.,   0.,   0.,   0.,   0.,   0.,   0., 187., 255., 148.,   0.,   0.,   0.,   0.,   0.,   0.,   0.,   0.,   0.,   0.,   0.,   0.,   0.,   0.],\n",
      "        [  0.,   0.,   0.,   0.,   0.,   0.,   0.,   0.,   0.,   0.,  61., 251., 245.,  39.,   0.,   0.,   0.,   0.,   0.,   0.,   0.,   0.,   0.,   0.,   0.,   0.,   0.,   0.],\n",
      "        [  0.,   0.,   0.,   0.,   0.,   0.,   0.,   0.,   0.,   0., 166., 255., 159.,   0.,   0.,   0.,   0.,   0.,   0.,   0.,   0.,   0.,   0.,   0.,   0.,   0.,   0.,   0.],\n",
      "        [  0.,   0.,   0.,   0.,   0.,   0.,   0.,   0.,   0.,  23., 238., 253.,  60.,   0.,   0.,   0.,   0.,   0.,   0.,   0.,   0.,   0.,   0.,   0.,   0.,   0.,   0.,   0.],\n",
      "        [  0.,   0.,   0.,   0.,   0.,   0.,   0.,   0.,   0.,  69., 255., 220.,   7.,   0.,   0.,   0.,   0.,   0.,   0.,   0.,   0.,   0.,   0.,   0.,   0.,   0.,   0.,   0.],\n",
      "        [  0.,   0.,   0.,   0.,   0.,   0.,   0.,   0.,   0.,  98., 255., 182.,   1.,   8.,   2.,   0.,   0.,   0.,   0.,   0.,   0.,   0.,   0.,   0.,   0.,   0.,   0.,   0.],\n",
      "        [  0.,   0.,   0.,   0.,   0.,   0.,   0.,   0.,   0., 103., 255., 225., 202., 219., 205., 160., 100.,  36.,   0.,   0.,   0.,   0.,   0.,   0.,   0.,   0.,   0.,   0.],\n",
      "        [  0.,   0.,   0.,   0.,   0.,   0.,   0.,   0.,   0., 103., 255., 255., 255., 255., 255., 255., 255., 238.,  96.,   0.,   0.,   0.,   0.,   0.,   0.,   0.,   0.,   0.],\n",
      "        [  0.,   0.,   0.,   0.,   0.,   0.,   0.,   0.,   0.,  97., 255., 232., 107.,  62.,  84., 148., 208., 255., 250.,  65.,   0.,   0.,   0.,   0.,   0.,   0.,   0.,   0.],\n",
      "        [  0.,   0.,   0.,   0.,   0.,   0.,   0.,   0.,   0.,  49., 253., 240.,  24.,   0.,   0.,   0.,   7., 169., 255., 152.,   0.,   0.,   0.,   0.,   0.,   0.,   0.,   0.],\n",
      "        [  0.,   0.,   0.,   0.,   0.,   0.,   0.,   0.,   0.,   4., 196., 255., 170.,   0.,   0.,   0.,   0., 138., 255., 156.,   0.,   0.,   0.,   0.,   0.,   0.,   0.,   0.],\n",
      "        [  0.,   0.,   0.,   0.,   0.,   0.,   0.,   0.,   0.,   0.,  56., 244., 255., 153.,  60.,  56.,  96., 229., 255.,  96.,   0.,   0.,   0.,   0.,   0.,   0.,   0.,   0.],\n",
      "        [  0.,   0.,   0.,   0.,   0.,   0.,   0.,   0.,   0.,   0.,   0., 102., 255., 255., 255., 255., 255., 255., 207.,  15.,   0.,   0.,   0.,   0.,   0.,   0.,   0.,   0.],\n",
      "        [  0.,   0.,   0.,   0.,   0.,   0.,   0.,   0.,   0.,   0.,   0.,   0.,  77., 191., 219., 219., 201., 136.,  27.,   0.,   0.,   0.,   0.,   0.,   0.,   0.,   0.,   0.],\n",
      "        [  0.,   0.,   0.,   0.,   0.,   0.,   0.,   0.,   0.,   0.,   0.,   0.,   0.,   0.,   8.,   8.,   1.,   0.,   0.,   0.,   0.,   0.,   0.,   0.,   0.,   0.,   0.,   0.],\n",
      "        [  0.,   0.,   0.,   0.,   0.,   0.,   0.,   0.,   0.,   0.,   0.,   0.,   0.,   0.,   0.,   0.,   0.,   0.,   0.,   0.,   0.,   0.,   0.,   0.,   0.,   0.,   0.,   0.],\n",
      "        [  0.,   0.,   0.,   0.,   0.,   0.,   0.,   0.,   0.,   0.,   0.,   0.,   0.,   0.,   0.,   0.,   0.,   0.,   0.,   0.,   0.,   0.,   0.,   0.,   0.,   0.,   0.,   0.],\n",
      "        [  0.,   0.,   0.,   0.,   0.,   0.,   0.,   0.,   0.,   0.,   0.,   0.,   0.,   0.,   0.,   0.,   0.,   0.,   0.,   0.,   0.,   0.,   0.,   0.,   0.,   0.,   0.,   0.],\n",
      "        [  0.,   0.,   0.,   0.,   0.,   0.,   0.,   0.,   0.,   0.,   0.,   0.,   0.,   0.,   0.,   0.,   0.,   0.,   0.,   0.,   0.,   0.,   0.,   0.,   0.,   0.,   0.,   0.]])\n"
     ]
    },
    {
     "data": {
      "image/png": "[encoded data removed]",
      "text/plain": [
       "<Figure size 600x400 with 1 Axes>"
      ]
     },
     "metadata": {},
     "output_type": "display_data"
    },
    {
     "name": "stdout",
     "output_type": "stream",
     "text": [
      "torch.float32\n",
      "tensor([[  0.,   0.,   0.,   0.,   0.,   0.,   0.,   0.,   0.,   0.,   0.,   0.,   0.,   0.,   0.,   0.,   0.,   0.,   0.,   0.,   0.,   0.,   0.,   0.,   0.,   0.,   0.,   0.],\n",
      "        [  0.,   0.,   0.,   0.,   0.,   0.,   0.,   0.,   0.,   0.,   0.,   0.,   0.,   0.,   0.,   0.,   0.,   0.,   0.,   0.,   0.,   0.,   0.,   0.,   0.,   0.,   0.,   0.],\n",
      "        [  0.,   0.,   0.,   0.,   0.,   0.,   0.,   0.,   0.,   0.,   0.,   0.,   0.,   0.,   0.,   0.,   0.,   0.,   0.,   0.,   0.,   0.,   0.,   0.,   0.,   0.,   0.,   0.],\n",
      "        [  0.,   0.,   0.,   0.,   0.,   0.,   0.,   0.,   0.,   0.,   0.,   0.,   0.,   0.,   0.,   0.,   0.,   0.,   0.,   0.,   0.,   0.,   0.,   0.,   0.,   0.,   0.,   0.],\n",
      "        [  0.,   0.,   0.,   0.,   0.,   0.,   0.,   0.,   0.,   0.,   0.,   0.,   0.,   0.,   0.,   0.,   0.,   0.,   0.,   0.,   0.,   0.,   0.,   0.,   0.,   0.,   0.,   0.],\n",
      "        [  0.,   0.,   0.,   0.,   0.,   0.,   0.,   0.,   0.,   0.,   0.,   0.,   0.,   0.,   8.,   8.,   0.,   0.,   0.,   0.,   0.,   0.,   0.,   0.,   0.,   0.,   0.,   0.],\n",
      "        [  0.,   0.,   0.,   0.,   0.,   0.,   0.,   0.,   0.,   7.,  74., 135., 174., 199., 219., 219., 179.,  74.,   0.,   0.,   0.,   0.,   0.,   0.,   0.,   0.,   0.,   0.],\n",
      "        [  0.,   0.,   0.,   0.,   0.,   0.,   0.,   0.,   0., 161., 255., 255., 255., 255., 255., 255., 255., 251.,  55.,   0.,   0.,   0.,   0.,   0.,   0.,   0.,   0.,   0.],\n",
      "        [  0.,   0.,   0.,   0.,   0.,   0.,   0.,   0.,   0., 146., 225., 160., 110.,  84.,  56.,  63., 219., 255.,  82.,   0.,   0.,   0.,   0.,   0.,   0.,   0.,   0.,   0.],\n",
      "        [  0.,   0.,   0.,   0.,   0.,   0.,   0.,   0.,   0.,   1.,  13.,   0.,   0.,   0.,   0.,   9., 228., 255.,  63.,   0.,   0.,   0.,   0.,   0.,   0.,   0.,   0.,   0.],\n",
      "        [  0.,   0.,   0.,   0.,   0.,   0.,   0.,   0.,   0.,   0.,   0.,   0.,   0.,   0.,   0., 121., 255., 221.,  13.,   0.,   0.,   0.,   0.,   0.,   0.,   0.,   0.,   0.],\n",
      "        [  0.,   0.,   0.,   0.,   0.,   0.,   0.,   0.,   0.,   0.,   0.,   0.,   0.,   0.,  64., 244., 255.,  97.,   0.,   0.,   0.,   0.,   0.,   0.,   0.,   0.,   0.,   0.],\n",
      "        [  0.,   0.,   0.,   0.,   0.,   0.,   0.,   0.,   0.,   0.,   0.,   0.,   7.,  95., 235., 255., 163.,   1.,   0.,   0.,   0.,   0.,   0.,   0.,   0.,   0.,   0.,   0.],\n",
      "        [  0.,   0.,   0.,   0.,   0.,   0.,   0.,   0.,   0.,   1.,  68., 137., 208., 255., 255., 192.,  11.,   0.,   0.,   0.,   0.,   0.,   0.,   0.,   0.,   0.,   0.,   0.],\n",
      "        [  0.,   0.,   0.,   0.,   0.,   0.,   0.,   0.,   0.,  28., 251., 255., 255., 255., 255., 206.,  75.,   0.,   0.,   0.,   0.,   0.,   0.,   0.,   0.,   0.,   0.,   0.],\n",
      "        [  0.,   0.,   0.,   0.,   0.,   0.,   0.,   0.,   0.,   7., 134., 174., 154., 186., 240., 255., 251.,  94.,   0.,   0.,   0.,   0.,   0.,   0.,   0.,   0.,   0.,   0.],\n",
      "        [  0.,   0.,   0.,   0.,   0.,   0.,   0.,   0.,   0.,   0.,   0.,   0.,   0.,   0.,  35., 152., 255., 244.,  54.,   0.,   0.,   0.,   0.,   0.,   0.,   0.,   0.,   0.],\n",
      "        [  0.,   0.,   0.,   0.,   0.,   0.,   0.,   0.,   0.,   0.,   0.,   0.,   0.,   0.,   0.,   1., 176., 255., 189.,   3.,   0.,   0.,   0.,   0.,   0.,   0.,   0.,   0.],\n",
      "        [  0.,   0.,   0.,   0.,   0.,   0.,   0.,   0.,   0.,   0.,   0.,   0.,   0.,   0.,   0.,   0.,  49., 252., 243.,  27.,   0.,   0.,   0.,   0.,   0.,   0.,   0.,   0.],\n",
      "        [  0.,   0.,   0.,   0.,   0.,   0.,   0.,   0.,   0.,   0.,   0.,   0.,   0.,   0.,   0.,   0.,  12., 230., 255.,  53.,   0.,   0.,   0.,   0.,   0.,   0.,   0.,   0.],\n",
      "        [  0.,   0.,   0.,   0.,   0.,   0.,   0.,   0.,   0.,   0.,   0.,   0.,   0.,   0.,   0.,   0.,  42., 235., 255.,  54.,   0.,   0.,   0.,   0.,   0.,   0.,   0.,   0.],\n",
      "        [  0.,   0.,   0.,   0.,   0.,   0.,   0.,   0.,   0.,   0.,   0.,   0.,   0.,   0.,  37., 124., 234., 255., 199.,  11.,   0.,   0.,   0.,   0.,   0.,   0.,   0.,   0.],\n",
      "        [  0.,   0.,   0.,   0.,   0.,  67., 115.,  68.,  56.,  56.,  73., 105., 145., 194., 244., 255., 255., 192.,  31.,   0.,   0.,   0.,   0.,   0.,   0.,   0.,   0.,   0.],\n",
      "        [  0.,   0.,   0.,   0.,   5., 219., 255., 255., 255., 255., 255., 255., 255., 255., 253., 197., 100.,   8.,   0.,   0.,   0.,   0.,   0.,   0.,   0.,   0.,   0.,   0.],\n",
      "        [  0.,   0.,   0.,   0.,   0.,  87., 193., 218., 219., 219., 212., 180., 145.,  95.,  47.,   2.,   0.,   0.,   0.,   0.,   0.,   0.,   0.,   0.,   0.,   0.,   0.,   0.],\n",
      "        [  0.,   0.,   0.,   0.,   0.,   0.,   0.,   8.,   8.,   8.,   5.,   0.,   0.,   0.,   0.,   0.,   0.,   0.,   0.,   0.,   0.,   0.,   0.,   0.,   0.,   0.,   0.,   0.],\n",
      "        [  0.,   0.,   0.,   0.,   0.,   0.,   0.,   0.,   0.,   0.,   0.,   0.,   0.,   0.,   0.,   0.,   0.,   0.,   0.,   0.,   0.,   0.,   0.,   0.,   0.,   0.,   0.,   0.],\n",
      "        [  0.,   0.,   0.,   0.,   0.,   0.,   0.,   0.,   0.,   0.,   0.,   0.,   0.,   0.,   0.,   0.,   0.,   0.,   0.,   0.,   0.,   0.,   0.,   0.,   0.,   0.,   0.,   0.]])\n"
     ]
    },
    {
     "data": {
      "image/png": "[encoded data removed]",
      "text/plain": [
       "<Figure size 600x400 with 1 Axes>"
      ]
     },
     "metadata": {},
     "output_type": "display_data"
    }
   ],
   "source": [
    "# 画笔测试\n",
    "import tkinter as tk\n",
    "from PIL import Image, ImageDraw\n",
    "import numpy as np\n",
    "import torch\n",
    "# 创建Tkinter主窗口\n",
    "root = tk.Tk()\n",
    "\n",
    "# 创建一个Canvas，用户可以在上面绘制数字\n",
    "canvas_size = 280  # canvas的大小\n",
    "canvas = tk.Canvas(root, width=canvas_size, height=canvas_size, bg='black')\n",
    "canvas.pack()\n",
    "\n",
    "# 创建一个PIL Image对象和一个ImageDraw对象，我们会在这个Image对象上进行绘图\n",
    "img = Image.new('L', (canvas_size, canvas_size), 0)\n",
    "draw = ImageDraw.Draw(img)\n",
    "\n",
    "# 定义鼠标拖动事件的处理函数，用于绘图\n",
    "def draw_digit(event):\n",
    "    radius = 10  # 设置画笔粗细\n",
    "    x1, y1 = (event.x - radius), (event.y - radius)\n",
    "    x2, y2 = (event.x + radius), (event.y + radius)\n",
    "    canvas.create_oval(x1, y1, x2, y2, fill='white', outline='white')\n",
    "    draw.ellipse([x1, y1, x2, y2], fill='white')\n",
    "\n",
    "\n",
    "\n",
    "canvas.bind('<B1-Motion>', draw_digit)\n",
    "\n",
    "def detect_func(x:Tensor):  \n",
    "    # (28,28)\n",
    "    print(x.dtype) \n",
    "    torch.set_printoptions(threshold=99999999, linewidth=9999999)\n",
    "    print(x)\n",
    "    x.unsqueeze_(0) # (1,28,28)\n",
    "    \n",
    "    plt.imshow(tensor_to_image(x))\n",
    "    plt.axis(\"off\")\n",
    "    plt.show()\n",
    "    \n",
    "    x.unsqueeze_(0) # (1, 1, 28, 28)\n",
    "    \n",
    "    # 归一化，参数从mnist的数据集上统计得来\n",
    "    mean = 0.1307\n",
    "    std = 0.3081\n",
    "    x = (x - mean) / std\n",
    "\n",
    "    return (net_mnist.loss(x).argmax()).item()\n",
    "\n",
    "# 定义“检测”按钮的回调函数\n",
    "def detect():\n",
    "    # 重新调整图像大小并转换为numpy数组\n",
    "    img_resized = img.resize((28, 28))\n",
    "    img_array = np.array(img_resized)\n",
    "\n",
    "    # 转换为PyTorch Tensor，注意类型和设备\n",
    "    img_tensor = torch.from_numpy(img_array).to(device).to(torch.float32)\n",
    "\n",
    "    # 调用detect函数\n",
    "    digit = detect_func(img_tensor)\n",
    "\n",
    "    # 更新label显示检测结果\n",
    "    label.config(text=str(digit))\n",
    "\n",
    "# 创建一个按钮，点击时会调用detect函数\n",
    "detect_button = tk.Button(root, text='Detect', command=detect)\n",
    "detect_button.pack()\n",
    "\n",
    "# 定义“清除”按钮的回调函数\n",
    "def clear_canvas():\n",
    "    canvas.delete('all')\n",
    "    draw.rectangle([0, 0, canvas_size, canvas_size], fill=0)\n",
    "\n",
    "# 创建一个按钮，点击时会清除Canvas\n",
    "clear_button = tk.Button(root, text='Clear', command=clear_canvas)\n",
    "clear_button.pack()\n",
    "\n",
    "# 创建一个标签，用于显示检测结果\n",
    "label = tk.Label(root, text='Detect Result')\n",
    "label.pack()\n",
    "\n",
    "# 开始Tkinter的主循环\n",
    "root.mainloop()\n"
   ]
  },
  {
   "cell_type": "code",
   "execution_count": null,
   "metadata": {},
   "outputs": [],
   "source": []
  }
 ],
 "metadata": {
  "kernelspec": {
   "display_name": "torch3.9",
   "language": "python",
   "name": "python3"
  },
  "language_info": {
   "codemirror_mode": {
    "name": "ipython",
    "version": 3
   },
   "file_extension": ".py",
   "mimetype": "text/x-python",
   "name": "python",
   "nbconvert_exporter": "python",
   "pygments_lexer": "ipython3",
   "version": "3.9.16"
  },
  "orig_nbformat": 4
 },
 "nbformat": 4,
 "nbformat_minor": 2
}
