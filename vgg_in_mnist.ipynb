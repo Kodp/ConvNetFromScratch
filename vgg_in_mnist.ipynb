{
 "cells": [
  {
   "cell_type": "code",
   "execution_count": 1,
   "metadata": {},
   "outputs": [
    {
     "name": "stdout",
     "output_type": "stream",
     "text": [
      "Good to go!\n"
     ]
    }
   ],
   "source": [
    "%load_ext autoreload\n",
    "%autoreload 2\n",
    "\n",
    "try:\n",
    "    from google.colab import drive\n",
    "    drive.mount('/content/drive')\n",
    "    import os\n",
    "    GOOGLE_DRIVE_PATH_AFTER_MYDRIVE = 'Vgg16'\n",
    "    GOOGLE_DRIVE_PATH = os.path.join('drive', 'My Drive', GOOGLE_DRIVE_PATH_AFTER_MYDRIVE)\n",
    "    print(os.listdir(GOOGLE_DRIVE_PATH))\n",
    "    import sys\n",
    "    sys.path.append(GOOGLE_DRIVE_PATH)\n",
    "except:\n",
    "    pass\n",
    "\n",
    "import time, os, torch, torchvision, random, time, math\n",
    "from torch import Tensor\n",
    "import torchvision\n",
    "import matplotlib.pyplot as plt\n",
    "\n",
    "%matplotlib inline\n",
    "plt.rcParams['figure.figsize'] = (6, 4)\n",
    "plt.rcParams['font.size'] = 10\n",
    "from toolset import *\n",
    "from toolset.utils import *\n",
    "from toolset.data import *\n",
    "from toolset.helper import *\n",
    "from toolset.solver import *\n",
    "from convolutional_networks import *\n",
    "from fully_connected_networks import *\n",
    "\n",
    "train_data, train_labels, test_data, test_labels = get_mnist_data()\n",
    "\n",
    "if torch.cuda.is_available:\n",
    "    print('Good to go!')\n",
    "else:\n",
    "    print('Please set GPU via Edit -> Notebook Settings.')"
   ]
  },
  {
   "cell_type": "code",
   "execution_count": 2,
   "metadata": {},
   "outputs": [
    {
     "name": "stdout",
     "output_type": "stream",
     "text": [
      "cuda\n",
      "训练数据集的形态: torch.Size([60000, 1, 28, 28])\n"
     ]
    }
   ],
   "source": [
    "device = torch.device(\"cuda\" if torch.cuda.is_available() else \"cpu\")\n",
    "print(device)\n",
    "train_data = train_data.to(device)\n",
    "train_labels = train_labels.to(device)\n",
    "test_data = test_data.to(device)\n",
    "test_labels = test_labels.to(device)\n",
    "\n",
    "data_dict = {\n",
    "    'X_train': train_data,\n",
    "    'y_train': train_labels,\n",
    "    'X_val': test_data,\n",
    "    'y_val': test_labels,\n",
    "}\n",
    "print(\"训练数据集的形态:\", train_data.shape)\n",
    "clear()"
   ]
  },
  {
   "cell_type": "code",
   "execution_count": 4,
   "metadata": {},
   "outputs": [],
   "source": [
    "reset_seed(0)\n",
    "net = ManualThreeLayerConvNet(\n",
    "    input_dims = (1, 28, 28),\n",
    "    num_filters = 32,\n",
    "    hidden_dim = 128,\n",
    "    num_classes = 10,\n",
    "    weight_scale = 1e-3,\n",
    "    reg = 1e-5,\n",
    "    device='cuda'\n",
    ")\n",
    "solver = Solver(net, data_dict,\n",
    "                num_epochs=3, batch_size=50,\n",
    "                optim_config={\n",
    "                'learning_rate': 0.001,\n",
    "                },\n",
    "                update_rule=adam,\n",
    "                verbose=True, device='cuda',print_every=100)"
   ]
  },
  {
   "cell_type": "code",
   "execution_count": 5,
   "metadata": {},
   "outputs": [
    {
     "name": "stdout",
     "output_type": "stream",
     "text": [
      "(用时 0.62s; 迭代次数1 / 3600) loss: 2.302594\n",
      "(Epoch 0 / 3, train 准确率: 15.40%, val准确率: 17.20%\n",
      "更新:当前准确率17.20, 大于之前的最佳准确率0.00\n",
      "\n",
      "(用时 1.73s; 迭代次数101 / 3600) loss: 0.233307\n",
      "(用时 2.75s; 迭代次数201 / 3600) loss: 0.210119\n",
      "(用时 3.82s; 迭代次数301 / 3600) loss: 0.191380\n",
      "(用时 4.84s; 迭代次数401 / 3600) loss: 0.125064\n",
      "(用时 5.81s; 迭代次数501 / 3600) loss: 0.086856\n",
      "(用时 6.87s; 迭代次数601 / 3600) loss: 0.034448\n",
      "(用时 7.88s; 迭代次数701 / 3600) loss: 0.066031\n",
      "(用时 8.91s; 迭代次数801 / 3600) loss: 0.107697\n",
      "(用时 9.97s; 迭代次数901 / 3600) loss: 0.029145\n",
      "(用时 10.99s; 迭代次数1001 / 3600) loss: 0.068469\n",
      "(用时 11.97s; 迭代次数1101 / 3600) loss: 0.103766\n",
      "(Epoch 1 / 3, train 准确率: 97.70%, val准确率: 97.62%\n",
      "更新:当前准确率97.62, 大于之前的最佳准确率17.20\n",
      "\n",
      "(用时 13.06s; 迭代次数1201 / 3600) loss: 0.198591\n",
      "(用时 14.03s; 迭代次数1301 / 3600) loss: 0.126243\n",
      "(用时 14.99s; 迭代次数1401 / 3600) loss: 0.013889\n",
      "(用时 15.96s; 迭代次数1501 / 3600) loss: 0.133625\n",
      "(用时 16.92s; 迭代次数1601 / 3600) loss: 0.025765\n",
      "(用时 17.90s; 迭代次数1701 / 3600) loss: 0.063145\n",
      "(用时 18.87s; 迭代次数1801 / 3600) loss: 0.027185\n",
      "(用时 19.84s; 迭代次数1901 / 3600) loss: 0.031336\n",
      "(用时 20.80s; 迭代次数2001 / 3600) loss: 0.045881\n",
      "(用时 21.78s; 迭代次数2101 / 3600) loss: 0.080676\n",
      "(用时 22.74s; 迭代次数2201 / 3600) loss: 0.023444\n",
      "(用时 23.67s; 迭代次数2301 / 3600) loss: 0.015232\n",
      "(Epoch 2 / 3, train 准确率: 98.70%, val准确率: 98.30%\n",
      "更新:当前准确率98.30, 大于之前的最佳准确率97.62\n",
      "\n",
      "(用时 24.73s; 迭代次数2401 / 3600) loss: 0.046496\n",
      "(用时 25.69s; 迭代次数2501 / 3600) loss: 0.012535\n",
      "(用时 26.62s; 迭代次数2601 / 3600) loss: 0.052377\n",
      "(用时 27.59s; 迭代次数2701 / 3600) loss: 0.019542\n",
      "(用时 28.56s; 迭代次数2801 / 3600) loss: 0.013021\n",
      "(用时 29.55s; 迭代次数2901 / 3600) loss: 0.038373\n",
      "(用时 30.50s; 迭代次数3001 / 3600) loss: 0.030850\n",
      "(用时 31.48s; 迭代次数3101 / 3600) loss: 0.013418\n",
      "(用时 32.47s; 迭代次数3201 / 3600) loss: 0.051147\n",
      "(用时 33.55s; 迭代次数3301 / 3600) loss: 0.010419\n",
      "(用时 34.53s; 迭代次数3401 / 3600) loss: 0.010820\n",
      "(用时 35.50s; 迭代次数3501 / 3600) loss: 0.023407\n",
      "(Epoch 3 / 3, train 准确率: 98.60%, val准确率: 98.81%\n",
      "更新:当前准确率98.81, 大于之前的最佳准确率98.30\n",
      "\n"
     ]
    }
   ],
   "source": [
    "reset_seed(0)\n",
    "solver.train(time_limit=600)\n",
    "# 你的模型1epoch应该能达到95%+准确率"
   ]
  },
  {
   "cell_type": "code",
   "execution_count": null,
   "metadata": {},
   "outputs": [],
   "source": [
    "# 保存权重模型\n",
    "net.save(\"mnist_5_27.pth\")"
   ]
  },
  {
   "cell_type": "code",
   "execution_count": null,
   "metadata": {},
   "outputs": [],
   "source": [
    "# 加载检测\n",
    "net_mnist = ManualThreeLayerConvNet()\n",
    "net_mnist.load(\"mnist_5_27.pth\")\n",
    "\n",
    "solver_checker = Solver(net, data_dict,optim_config={\n",
    "                'learning_rate': 0.001,\n",
    "                },device=device)\n",
    "acc = solver_checker.check_accuracy(data_dict['X_val'],data_dict['y_val'])\n",
    "print(acc)"
   ]
  },
  {
   "cell_type": "code",
   "execution_count": null,
   "metadata": {},
   "outputs": [],
   "source": []
  }
 ],
 "metadata": {
  "kernelspec": {
   "display_name": "torch3.9",
   "language": "python",
   "name": "python3"
  },
  "language_info": {
   "codemirror_mode": {
    "name": "ipython",
    "version": 3
   },
   "file_extension": ".py",
   "mimetype": "text/x-python",
   "name": "python",
   "nbconvert_exporter": "python",
   "pygments_lexer": "ipython3",
   "version": "3.9.16"
  },
  "orig_nbformat": 4
 },
 "nbformat": 4,
 "nbformat_minor": 2
}
