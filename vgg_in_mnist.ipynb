{
 "cells": [
  {
   "cell_type": "code",
   "execution_count": 1,
   "metadata": {},
   "outputs": [
    {
     "name": "stdout",
     "output_type": "stream",
     "text": [
      "Good to go!\n"
     ]
    }
   ],
   "source": [
    "%load_ext autoreload\n",
    "%autoreload 2\n",
    "\n",
    "try:\n",
    "    from google.colab import drive\n",
    "    drive.mount('/content/drive')\n",
    "    import os\n",
    "    GOOGLE_DRIVE_PATH_AFTER_MYDRIVE = 'Vgg16'\n",
    "    GOOGLE_DRIVE_PATH = os.path.join('drive', 'My Drive', GOOGLE_DRIVE_PATH_AFTER_MYDRIVE)\n",
    "    print(os.listdir(GOOGLE_DRIVE_PATH))\n",
    "    import sys\n",
    "    sys.path.append(GOOGLE_DRIVE_PATH)\n",
    "except:\n",
    "    pass\n",
    "\n",
    "import time, os, torch, torchvision, random, time, math\n",
    "from torch import Tensor\n",
    "import torchvision\n",
    "import matplotlib.pyplot as plt\n",
    "\n",
    "%matplotlib inline\n",
    "plt.rcParams['figure.figsize'] = (6, 4)\n",
    "plt.rcParams['font.size'] = 10\n",
    "from toolset import *\n",
    "from toolset.utils import *\n",
    "from toolset.data import *\n",
    "from toolset.helper import *\n",
    "from toolset.solver import *\n",
    "from convolutional_networks import *\n",
    "from fully_connected_networks import *\n",
    "\n",
    "train_data, train_labels, test_data, test_labels = get_mnist_data()\n",
    "\n",
    "if torch.cuda.is_available:\n",
    "    print('Good to go!')\n",
    "else:\n",
    "    print('Please set GPU via Edit -> Notebook Settings.')"
   ]
  },
  {
   "cell_type": "code",
   "execution_count": 2,
   "metadata": {},
   "outputs": [
    {
     "name": "stdout",
     "output_type": "stream",
     "text": [
      "cuda\n",
      "训练数据集的形态: torch.Size([60000, 1, 28, 28])\n"
     ]
    }
   ],
   "source": [
    "device = torch.device(\"cuda\" if torch.cuda.is_available() else \"cpu\")\n",
    "print(device)\n",
    "train_data = train_data.to(device)\n",
    "train_labels = train_labels.to(device)\n",
    "test_data = test_data.to(device)\n",
    "test_labels = test_labels.to(device)\n",
    "\n",
    "data_dict = {\n",
    "    'X_train': train_data,\n",
    "    'y_train': train_labels,\n",
    "    'X_val': test_data,\n",
    "    'y_val': test_labels,\n",
    "}\n",
    "print(\"训练数据集的形态:\", train_data.shape)\n",
    "clear()"
   ]
  },
  {
   "cell_type": "code",
   "execution_count": null,
   "metadata": {},
   "outputs": [],
   "source": [
    "def origin_Conv_test():\n",
    "    tensor_to_image"
   ]
  },
  {
   "cell_type": "code",
   "execution_count": 3,
   "metadata": {},
   "outputs": [],
   "source": [
    "reset_seed(0)\n",
    "net = ManualThreeLayerConvNet(\n",
    "    input_dims = (1, 28, 28),\n",
    "    num_filters = 1,\n",
    "    hidden_dim = 128,\n",
    "    num_classes = 10,\n",
    "    weight_scale = 1e-3,\n",
    "    reg = 1e-5,\n",
    "    device='cuda'\n",
    ")\n",
    "\n",
    "solver = Solver(net, data_dict,\n",
    "                num_epochs=5, batch_size=50,\n",
    "                optim_config={\n",
    "                'learning_rate': 0.001,\n",
    "                },\n",
    "                update_rule=adam,\n",
    "                verbose=True, device='cuda',print_every=1)"
   ]
  },
  {
   "cell_type": "code",
   "execution_count": 4,
   "metadata": {},
   "outputs": [
    {
     "name": "stdout",
     "output_type": "stream",
     "text": [
      "(用时 10.91s; 迭代次数1 / 6000) loss: 2.302585\n",
      "(Epoch 0 / 5, train 准确率: 11.40%, val准确率: 12.19%\n",
      "更新:当前准确率12.19, 大于之前的最佳准确率0.00\n",
      "\n",
      "(用时 839.56s; 迭代次数1 / 6000) loss: 2.302585\n",
      "下一轮会超时，结束训练。\n"
     ]
    }
   ],
   "source": [
    "reset_seed(0)\n",
    "solver.train(time_limit=120)\n",
    "# 你的模型1epoch应该能达到95%+准确率"
   ]
  },
  {
   "cell_type": "code",
   "execution_count": 5,
   "metadata": {},
   "outputs": [
    {
     "name": "stdout",
     "output_type": "stream",
     "text": [
      "(用时 3.22s; 迭代次数1 / 2400) loss: 2.364528\n",
      "(Epoch 0 / 2, train 准确率: 19.70%, val准确率: 19.51%\n",
      "更新:当前准确率大于19.51 之前的最佳准确率0.00\n",
      "\n",
      "(用时 5.13s; 迭代次数101 / 2400) loss: 0.213891\n",
      "(用时 6.81s; 迭代次数201 / 2400) loss: 0.163752\n",
      "(用时 8.54s; 迭代次数301 / 2400) loss: 0.186871\n",
      "(用时 10.28s; 迭代次数401 / 2400) loss: 0.024308\n",
      "(用时 12.02s; 迭代次数501 / 2400) loss: 0.017234\n",
      "(用时 13.78s; 迭代次数601 / 2400) loss: 0.207984\n",
      "(用时 15.49s; 迭代次数701 / 2400) loss: 0.083367\n",
      "(用时 17.27s; 迭代次数801 / 2400) loss: 0.053275\n",
      "(用时 18.97s; 迭代次数901 / 2400) loss: 0.015938\n",
      "(用时 20.62s; 迭代次数1001 / 2400) loss: 0.032132\n",
      "(用时 22.31s; 迭代次数1101 / 2400) loss: 0.026353\n",
      "(Epoch 1 / 2, train 准确率: 98.30%, val准确率: 98.63%\n",
      "更新:当前准确率大于98.63 之前的最佳准确率19.51\n",
      "\n",
      "(用时 24.17s; 迭代次数1201 / 2400) loss: 0.015365\n",
      "(用时 25.82s; 迭代次数1301 / 2400) loss: 0.082027\n",
      "(用时 27.48s; 迭代次数1401 / 2400) loss: 0.004260\n",
      "(用时 29.18s; 迭代次数1501 / 2400) loss: 0.009684\n",
      "(用时 30.92s; 迭代次数1601 / 2400) loss: 0.179588\n",
      "(用时 32.60s; 迭代次数1701 / 2400) loss: 0.011768\n",
      "(用时 34.31s; 迭代次数1801 / 2400) loss: 0.013870\n",
      "(用时 36.04s; 迭代次数1901 / 2400) loss: 0.035175\n",
      "(用时 37.75s; 迭代次数2001 / 2400) loss: 0.024091\n",
      "(用时 39.54s; 迭代次数2101 / 2400) loss: 0.004367\n",
      "(用时 41.30s; 迭代次数2201 / 2400) loss: 0.011750\n",
      "(用时 43.02s; 迭代次数2301 / 2400) loss: 0.022918\n",
      "(Epoch 2 / 2, train 准确率: 98.40%, val准确率: 98.58%\n"
     ]
    }
   ],
   "source": [
    "\n",
    "solver = Solver(net, data_dict,\n",
    "                num_epochs=2, batch_size=50,\n",
    "                optim_config={\n",
    "                'learning_rate': 0.001,\n",
    "                },\n",
    "                update_rule=adam,\n",
    "                verbose=True, device='cuda',print_every=100)\n",
    "solver.train(time_limit=120)\n",
    "# 你的模型1epoch应该能达到95%+准确率"
   ]
  },
  {
   "cell_type": "code",
   "execution_count": 6,
   "metadata": {},
   "outputs": [
    {
     "name": "stdout",
     "output_type": "stream",
     "text": [
      "Saved in mnist_5_25.pth\n"
     ]
    }
   ],
   "source": [
    "net.save(\"mnist_5_25.pth\")"
   ]
  },
  {
   "cell_type": "code",
   "execution_count": 12,
   "metadata": {},
   "outputs": [
    {
     "name": "stdout",
     "output_type": "stream",
     "text": [
      "成功加载checkpoint文件: mnist_5_25.pth\n",
      "0.9864667057991028\n"
     ]
    }
   ],
   "source": [
    "net_mnist = VggNet()\n",
    "net_mnist.load(\"mnist_5_25.pth\",dtype=torch.float32,device=device)\n",
    "\n",
    "solver_checker = Solver(net, data_dict,optim_config={\n",
    "                'learning_rate': 0.001,\n",
    "                },device=device)\n",
    "acc = solver_checker.check_accuracy(data_dict['X_val'],data_dict['y_val'])\n",
    "print(acc)"
   ]
  },
  {
   "cell_type": "code",
   "execution_count": null,
   "metadata": {},
   "outputs": [],
   "source": []
  }
 ],
 "metadata": {
  "kernelspec": {
   "display_name": "torch3.9",
   "language": "python",
   "name": "python3"
  },
  "language_info": {
   "codemirror_mode": {
    "name": "ipython",
    "version": 3
   },
   "file_extension": ".py",
   "mimetype": "text/x-python",
   "name": "python",
   "nbconvert_exporter": "python",
   "pygments_lexer": "ipython3",
   "version": "3.9.16"
  },
  "orig_nbformat": 4
 },
 "nbformat": 4,
 "nbformat_minor": 2
}
