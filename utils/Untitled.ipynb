{
 "cells": [
  {
   "attachments": {},
   "cell_type": "markdown",
   "id": "e3c9103f",
   "metadata": {},
   "source": [
    "# 导入"
   ]
  },
  {
   "cell_type": "code",
   "execution_count": 22,
   "id": "ca5593b2",
   "metadata": {},
   "outputs": [],
   "source": [
    "%load_ext autoreload\n",
    "%autoreload 2"
   ]
  },
  {
   "cell_type": "code",
   "execution_count": 2,
   "id": "a1f74a81",
   "metadata": {},
   "outputs": [],
   "source": [
    "import torch\n",
    "from torch import Tensor\n",
    "import torchvision\n",
    "import matplotlib.pyplot as plt\n",
    "import statistics\n",
    "import random\n",
    "import time\n",
    "import math\n",
    "import numpy as np\n",
    "%matplotlib inline\n",
    "plt.rcParams['figure.figsize'] = (6, 4)\n",
    "plt.rcParams['font.size'] = 10"
   ]
  },
  {
   "attachments": {},
   "cell_type": "markdown",
   "id": "d964be37",
   "metadata": {},
   "source": [
    "# 调试data"
   ]
  },
  {
   "cell_type": "code",
   "execution_count": 72,
   "id": "13e4ab5d",
   "metadata": {},
   "outputs": [],
   "source": [
    "from data import _extract_tensors"
   ]
  },
  {
   "cell_type": "code",
   "execution_count": 73,
   "id": "25d26d94",
   "metadata": {},
   "outputs": [
    {
     "name": "stdout",
     "output_type": "stream",
     "text": [
      "Files already downloaded and verified\n",
      "torch.Size([10, 3, 32, 32])\n",
      "torch.Size([10])\n"
     ]
    }
   ],
   "source": [
    "dset = torchvision.datasets.CIFAR10(root=\".\", download=True, train=True)\n",
    "x, y = _extract_tensors(dset, num=10)\n",
    "print(x.shape)  # 输出应该为：torch.Size([10, 3, 32, 32])\n",
    "print(y.shape)  # 输出应该为：torch.Size([10])\n"
   ]
  },
  {
   "cell_type": "code",
   "execution_count": 76,
   "id": "59fbc1d3",
   "metadata": {},
   "outputs": [
    {
     "name": "stdout",
     "output_type": "stream",
     "text": [
      "可以看到channel在最后一维度 (50000, 32, 32, 3)\n",
      "[0.60392157 0.69411765 0.73333333]\n"
     ]
    },
    {
     "data": {
      "text/plain": [
       "<matplotlib.image.AxesImage at 0x259b5637ca0>"
      ]
     },
     "execution_count": 76,
     "metadata": {},
     "output_type": "execute_result"
    },
    {
     "data": {
      "image/png": "[encoded data removed]",
      "text/plain": [
       "<Figure size 600x400 with 1 Axes>"
      ]
     },
     "metadata": {},
     "output_type": "display_data"
    }
   ],
   "source": [
    "print(\"可以看到channel在最后一维度\",dset.data.shape)  # 通道在最后\n",
    "\"\"\"\n",
    "plt.imshow 它期望的输入是在0-1范围内的浮点数，或者在0-255范围内的整数。拿到的数据是整数，除以255之后仍然可以正常工作。除以别的数就不行。\n",
    "同时，plt需要图像格式为(H, W, C)，而不是(C, H, W)\n",
    "\"\"\"\n",
    "x1 = dset.data[1] / 255   # 卡车\n",
    "print(x1[0, 0])  # (32, 32, 3) -> (3)\n",
    "plt.imshow(x1)"
   ]
  },
  {
   "cell_type": "code",
   "execution_count": 77,
   "id": "d9288611",
   "metadata": {},
   "outputs": [
    {
     "name": "stdout",
     "output_type": "stream",
     "text": [
      "torch.Size([10, 3, 32, 32]) torch.Size([10])\n"
     ]
    },
    {
     "data": {
      "image/png": "[encoded data removed]",
      "text/plain": [
       "<Figure size 600x400 with 1 Axes>"
      ]
     },
     "metadata": {},
     "output_type": "display_data"
    },
    {
     "ename": "",
     "evalue": "",
     "output_type": "error",
     "traceback": [
      "\u001b[1;31m在当前单元格或上一个单元格中执行代码时 Kernel 崩溃。请查看单元格中的代码，以确定故障的可能原因。有关详细信息，请单击 <a href='https://aka.ms/vscodeJupyterKernelCrash'>此处</a>。有关更多详细信息，请查看 Jupyter <a href='command:jupyter.viewOutput'>log</a>。"
     ]
    }
   ],
   "source": [
    "x, y = _extract_tensors(dset, 10)\n",
    "print(x.shape, y.shape)\n",
    "def show_1_tensor(x:Tensor):\n",
    "    plt.imshow(x.permute(1, 2, 0).numpy())\n",
    "    plt.show()\n",
    "    \n",
    "show_1_tensor(x[1])"
   ]
  },
  {
   "cell_type": "code",
   "execution_count": 21,
   "id": "0651ee80",
   "metadata": {},
   "outputs": [
    {
     "name": "stdout",
     "output_type": "stream",
     "text": [
      "tensor([False,  True, False, False,  True, False, False,  True, False])\n",
      "tensor([1, 4, 7])\n"
     ]
    }
   ],
   "source": [
    "import torch\n",
    "# 假设 y_train 是这样的一个张量：\n",
    "y_train = torch.tensor([0, 1, 2, 0, 1, 2, 0, 1, 2])\n",
    "\n",
    "# 我们要找出所有值为 1 的元素的索引\n",
    "y = 1\n",
    "\n",
    "# 这个操作会返回一个布尔张量\n",
    "print(y_train == y)\n",
    "# tensor([False,  True, False, False,  True, False, False,  True, False])\n",
    "\n",
    "# nonzero 函数会返回非零元素的索引\n",
    "# (idx,) = (y_train == y).nonzero(as_tuple=True)\n",
    "#print(idx)\n",
    "(c,) = (y_train == y).nonzero(as_tuple=True)\n",
    "print(c)\n",
    "# tensor([1, 4, 7])\n"
   ]
  },
  {
   "cell_type": "code",
   "execution_count": 15,
   "id": "446252b2",
   "metadata": {},
   "outputs": [
    {
     "name": "stdout",
     "output_type": "stream",
     "text": [
      "(tensor([0, 0, 1]), tensor([0, 1, 1]))\n"
     ]
    }
   ],
   "source": [
    "x = torch.tensor([[2,2,3,1],[1,2,5,-1]])\n",
    "\n",
    "print((x == 2).nonzero(as_tuple=True))"
   ]
  },
  {
   "cell_type": "code",
   "execution_count": 24,
   "id": "26cadaec",
   "metadata": {},
   "outputs": [
    {
     "ename": "ModuleNotFoundError",
     "evalue": "No module named 'data'",
     "output_type": "error",
     "traceback": [
      "\u001b[1;31m---------------------------------------------------------------------------\u001b[0m",
      "\u001b[1;31mModuleNotFoundError\u001b[0m                       Traceback (most recent call last)",
      "Cell \u001b[1;32mIn[24], line 1\u001b[0m\n\u001b[1;32m----> 1\u001b[0m \u001b[39mimport\u001b[39;00m \u001b[39mdata\u001b[39;00m\n",
      "\u001b[1;31mModuleNotFoundError\u001b[0m: No module named 'data'"
     ]
    }
   ],
   "source": []
  },
  {
   "cell_type": "code",
   "execution_count": null,
   "id": "03188a31",
   "metadata": {},
   "outputs": [],
   "source": []
  }
 ],
 "metadata": {
  "kernelspec": {
   "display_name": "Python 3 (ipykernel)",
   "language": "python",
   "name": "python3"
  },
  "language_info": {
   "codemirror_mode": {
    "name": "ipython",
    "version": 3
   },
   "file_extension": ".py",
   "mimetype": "text/x-python",
   "name": "python",
   "nbconvert_exporter": "python",
   "pygments_lexer": "ipython3",
   "version": "3.9.16"
  },
  "toc": {
   "base_numbering": 1,
   "nav_menu": {},
   "number_sections": true,
   "sideBar": true,
   "skip_h1_title": false,
   "title_cell": "Table of Contents",
   "title_sidebar": "Contents",
   "toc_cell": false,
   "toc_position": {},
   "toc_section_display": true,
   "toc_window_display": false
  },
  "varInspector": {
   "cols": {
    "lenName": 16,
    "lenType": 16,
    "lenVar": 40
   },
   "kernels_config": {
    "python": {
     "delete_cmd_postfix": "",
     "delete_cmd_prefix": "del ",
     "library": "var_list.py",
     "varRefreshCmd": "print(var_dic_list())"
    },
    "r": {
     "delete_cmd_postfix": ") ",
     "delete_cmd_prefix": "rm(",
     "library": "var_list.r",
     "varRefreshCmd": "cat(var_dic_list()) "
    }
   },
   "types_to_exclude": [
    "module",
    "function",
    "builtin_function_or_method",
    "instance",
    "_Feature"
   ],
   "window_display": false
  }
 },
 "nbformat": 4,
 "nbformat_minor": 5
}
